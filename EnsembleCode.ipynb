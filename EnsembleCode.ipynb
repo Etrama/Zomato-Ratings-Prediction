{
 "cells": [
  {
   "cell_type": "code",
   "execution_count": null,
   "metadata": {
    "_cell_guid": "b8712d15-5e6e-4f68-a5f5-598f096c5243",
    "_uuid": "de8f4898ea14d5f6a5deafe99539c6d0c7a7a4de",
    "collapsed": true
   },
   "outputs": [],
   "source": [
    "# This Python 3 environment comes with many helpful analytics libraries installed\n",
    "# It is defined by the kaggle/python docker image: https://github.com/kaggle/docker-python\n",
    "# For example, here's several helpful packages to load in \n",
    "import numpy as np # linear algebra\n",
    "import pandas as pd # data processing, CSV file I/O (e.g. pd.read_csv)\n",
    "from sklearn.preprocessing import OneHotEncoder, LabelEncoder\n",
    "from sklearn.metrics import make_scorer, mean_squared_error\n",
    "import xgboost as xgb"
   ]
  },
  {
   "cell_type": "code",
   "execution_count": null,
   "metadata": {
    "_cell_guid": "6f4b96af-63ea-4018-b9c1-06697350aef4",
    "_uuid": "16d72ea4d04572bfcc344bfdca87a18e386a32cc",
    "collapsed": true
   },
   "outputs": [],
   "source": [
    "import numpy as np # linear algebra\n",
    "import pandas as pd # data processing, CSV file I/O (e.g. pd.read_csv)\n",
    "%matplotlib inline\n",
    "import matplotlib.pyplot as plt  # Matlab-style plotting\n",
    "import seaborn as sns\n",
    "color = sns.color_palette()\n",
    "sns.set_style('darkgrid')\n",
    "import warnings\n",
    "def ignore_warn(*args, **kwargs):\n",
    "    pass\n",
    "warnings.warn = ignore_warn #ignore annoying warning (from sklearn and seaborn)\n",
    "\n",
    "\n",
    "from scipy import stats\n",
    "from scipy.stats import norm, skew #for some statistics\n",
    "\n",
    "\n",
    "pd.set_option('display.float_format', lambda x: '{:.3f}'.format(x)) #Limiting floats output to 3 decimal points\n",
    "\n",
    "\n",
    "from subprocess import check_output\n",
    "print(check_output([\"ls\", \"../input\"]).decode(\"utf8\")) #check the files available in the directory"
   ]
  },
  {
   "cell_type": "code",
   "execution_count": null,
   "metadata": {
    "_cell_guid": "f6ce9641-fc28-4477-a615-9955824d85fe",
    "_uuid": "18cf573e1a7907070b9c3dd65fada65a32e9bca3",
    "collapsed": true
   },
   "outputs": [],
   "source": [
    "# Input data files are available in the \"../input/\" directory.\n",
    "#Input of Data \n",
    "train = pd.read_csv('../input/ProcessedDataTrain.csv',header=0,engine='python')\n",
    "test = pd.read_csv('../input/ProcessedDataTest.csv',header=0,engine='python' )\n",
    "#test = pd.read_csv('../input/test.csv', header=0)\n"
   ]
  },
  {
   "cell_type": "code",
   "execution_count": null,
   "metadata": {
    "_cell_guid": "d2306ec2-6d0d-42bf-ac4f-186e92dc7060",
    "_uuid": "868d8bc957126017e442af3c2f5269de006bb28e",
    "collapsed": true
   },
   "outputs": [],
   "source": [
    "#check the numbers of samples and features\n",
    "print(\"The train data size before dropping Id feature is : {} \".format(train.shape))\n",
    "print(\"The test data size before dropping Id feature is : {} \".format(test.shape))\n",
    "\n",
    "#Save the 'Id' column\n",
    "train_ID = train['id']\n",
    "test_ID = test['id']\n",
    "\n",
    "#Now drop the  'Id' colum since it's unnecessary for  the prediction process.\n",
    "train.drop(\"id\", axis = 1, inplace = True)\n",
    "test.drop(\"id\", axis = 1, inplace = True)\n",
    "\n",
    "#check again the data size after dropping the 'Id' variable\n",
    "print(\"\\nThe train data size after dropping Id feature is : {} \".format(train.shape)) \n",
    "print(\"The test data size after dropping Id feature is : {} \".format(test.shape))"
   ]
  },
  {
   "cell_type": "code",
   "execution_count": null,
   "metadata": {
    "_cell_guid": "6546c50f-9bf5-4871-ab69-66f5cecd22ad",
    "_uuid": "82c67bc6bd97745774dd05b9de57723f0fabde5b",
    "collapsed": true
   },
   "outputs": [],
   "source": [
    "##display the first five rows of the train dataset.\n",
    "train.head(5)"
   ]
  },
  {
   "cell_type": "code",
   "execution_count": null,
   "metadata": {
    "_cell_guid": "ce40af58-b6b1-4760-a90a-ff97da09ec34",
    "_uuid": "ffe1ef81619ddab31a69d5f0f724ef2bfcdeef84",
    "collapsed": true
   },
   "outputs": [],
   "source": [
    "##display the first five rows of the test dataset.\n",
    "test.head(5)"
   ]
  },
  {
   "cell_type": "code",
   "execution_count": null,
   "metadata": {
    "_cell_guid": "bab68c4c-e22a-4f9f-beb0-469bb80d998e",
    "_uuid": "0308c7174df827e2ab17ea1c175c0e06737d98db",
    "collapsed": true
   },
   "outputs": [],
   "source": [
    "fig, ax = plt.subplots()\n",
    "ax.scatter(x = train['bedrooms'], y = train['log_price'])\n",
    "plt.ylabel('log_price', fontsize=13)\n",
    "plt.xlabel('bedrooms', fontsize=13)\n",
    "plt.show()"
   ]
  },
  {
   "cell_type": "code",
   "execution_count": null,
   "metadata": {
    "_cell_guid": "4ce663ce-8a32-48ae-8083-a9acf22e280e",
    "_uuid": "549a515fa92ce52a597b388586f3c84a4a8c8ef2",
    "collapsed": true
   },
   "outputs": [],
   "source": [
    "fig, ax = plt.subplots()\n",
    "ax.scatter(x = train['beds'], y = train['log_price'])\n",
    "plt.ylabel('log_price', fontsize=13)\n",
    "plt.xlabel('beds', fontsize=13)\n",
    "plt.show()"
   ]
  },
  {
   "cell_type": "code",
   "execution_count": null,
   "metadata": {
    "_cell_guid": "45c68691-51b4-43ed-8bd8-c24dda4d016a",
    "_uuid": "26b90680f4bb0620b02454156f108bce29bc3172",
    "collapsed": true
   },
   "outputs": [],
   "source": [
    "#Outlier removal \n",
    "train = train[train['log_price'] !=0]\n",
    "\n",
    "#train = train[(!train['log_price'] < 4) & (!train['bedrooms']) > 7 ]\n",
    "train = train[train['beds'] < 17]"
   ]
  },
  {
   "cell_type": "code",
   "execution_count": null,
   "metadata": {
    "_cell_guid": "257fa4fe-fecf-4d25-b91d-ddc271b7f8ab",
    "_uuid": "06e442b094818df1167b587333a4a1379499ff12",
    "collapsed": true
   },
   "outputs": [],
   "source": [
    "sns.distplot(train['log_price'] , fit=norm);\n",
    "\n",
    "# Get the fitted parameters used by the function\n",
    "(mu, sigma) = norm.fit(train['log_price'])\n",
    "print( '\\n mu = {:.2f} and sigma = {:.2f}\\n'.format(mu, sigma))\n",
    "\n",
    "#Now plot the distribution\n",
    "plt.legend(['Normal dist. ($\\mu=$ {:.2f} and $\\sigma=$ {:.2f} )'.format(mu, sigma)],\n",
    "            loc='best')\n",
    "plt.ylabel('Frequency')\n",
    "plt.title('SalePrice distribution')\n",
    "\n",
    "#Get also the QQ-plot\n",
    "fig = plt.figure()\n",
    "res = stats.probplot(train['log_price'], plot=plt)\n",
    "plt.show()"
   ]
  },
  {
   "cell_type": "code",
   "execution_count": null,
   "metadata": {
    "_cell_guid": "2dc7774e-c01c-46e6-9c82-564d3407afe9",
    "_uuid": "5158e4b12fdc5138c3ae03bd999918b613c36626",
    "collapsed": true
   },
   "outputs": [],
   "source": [
    "ntrain = train.shape[0]\n",
    "ntest = test.shape[0]\n",
    "y_train = train.log_price.values\n",
    "all_data = pd.concat((train, test)).reset_index(drop=True)\n",
    "all_data.drop(['log_price'], axis=1, inplace=True)\n",
    "print(\"all_data size is : {}\".format(all_data.shape))"
   ]
  },
  {
   "cell_type": "code",
   "execution_count": null,
   "metadata": {
    "_cell_guid": "9956e02c-42d9-4bfe-8547-36c22e412cb8",
    "_uuid": "b1f7138ff859d748b415ee0595702e33c75b5221",
    "collapsed": true
   },
   "outputs": [],
   "source": [
    "all_data[\"NewScore\"] = all_data['number_of_reviews']*0.75 + all_data['review_scores_rating']*0.25"
   ]
  },
  {
   "cell_type": "code",
   "execution_count": null,
   "metadata": {
    "_cell_guid": "8e19bad2-0dd6-4983-8dd4-c880a456dca5",
    "_uuid": "b85072c9c353aba32d2dac89c0e5ff55ae2fbc41",
    "collapsed": true
   },
   "outputs": [],
   "source": [
    "all_data.dtypes"
   ]
  },
  {
   "cell_type": "code",
   "execution_count": null,
   "metadata": {
    "_cell_guid": "c7928ef6-35ae-47a9-a048-61b4afbf2363",
    "_uuid": "b26b1694c1a7b2be69082d776094e6f885309997",
    "collapsed": true
   },
   "outputs": [],
   "source": [
    "%matplotlib inline\n",
    "import matplotlib.pyplot as plt\n",
    "all_data.hist(bins=50, figsize=(20,15))\n",
    "plt.savefig(\"attribute_histogram_plots\")\n",
    "plt.show()"
   ]
  },
  {
   "cell_type": "code",
   "execution_count": null,
   "metadata": {
    "_cell_guid": "f9a3c66e-5ad4-48fd-bdca-5cc3e6bfd3a5",
    "_uuid": "125f1013abf02e63c1ca6f7d7e897e245d706cae",
    "collapsed": true
   },
   "outputs": [],
   "source": [
    "corr_matrix = train.corr()\n",
    "corr_matrix[\"log_price\"].sort_values(ascending=False)"
   ]
  },
  {
   "cell_type": "code",
   "execution_count": null,
   "metadata": {
    "_cell_guid": "afba3cb2-da02-4834-b9c8-998522f93fc0",
    "_uuid": "f2be0a6f76634bffa030b517b428d6083bd7db84",
    "collapsed": true
   },
   "outputs": [],
   "source": [
    "numerics = ['uint8','int16', 'int32', 'int64', 'float16', 'float32', 'float64']\n",
    "all_data = all_data.select_dtypes(include=numerics).fillna(0)\n",
    "\n",
    "train = all_data[:ntrain]\n",
    "test = all_data[ntrain:]"
   ]
  },
  {
   "cell_type": "code",
   "execution_count": null,
   "metadata": {
    "_cell_guid": "4dc98a55-fda6-4e4d-ac2e-f7098179b5c1",
    "_uuid": "f52997356acbf39f9a48affb7ab9c73207e2b194",
    "collapsed": true
   },
   "outputs": [],
   "source": [
    "all_data_na = (all_data.isnull().sum() / len(all_data)) * 100\n",
    "all_data_na = all_data_na.drop(all_data_na[all_data_na == 0].index).sort_values(ascending=False)[:30]\n",
    "missing_data = pd.DataFrame({'Missing Ratio' :all_data_na})\n",
    "missing_data.head(20)"
   ]
  },
  {
   "cell_type": "code",
   "execution_count": null,
   "metadata": {
    "_cell_guid": "c6533378-4e46-43fd-ba0e-fc722e58fd30",
    "_uuid": "47a6471d53012cd19f9f1a9364503e94116dc2fa",
    "collapsed": true
   },
   "outputs": [],
   "source": [
    "#Modelling\n",
    "\n",
    "from sklearn.linear_model import ElasticNet, Lasso,  BayesianRidge, LassoLarsIC\n",
    "from sklearn.ensemble import RandomForestRegressor,  GradientBoostingRegressor\n",
    "from sklearn.kernel_ridge import KernelRidge\n",
    "from sklearn.pipeline import make_pipeline\n",
    "from sklearn.preprocessing import RobustScaler\n",
    "from sklearn.base import BaseEstimator, TransformerMixin, RegressorMixin, clone\n",
    "from sklearn.model_selection import KFold, cross_val_score, train_test_split\n",
    "from sklearn.metrics import mean_squared_error\n",
    "import xgboost as xgb\n",
    "import lightgbm as lgb"
   ]
  },
  {
   "cell_type": "code",
   "execution_count": null,
   "metadata": {
    "_cell_guid": "78ce5471-92b4-421f-b646-e5f3b0feed08",
    "_uuid": "c2dad6567627c914018cdb57569d929e83e9558d",
    "collapsed": true
   },
   "outputs": [],
   "source": [
    "#Validation function\n",
    "n_folds = 5\n",
    "\n",
    "def rmsle_cv(model):\n",
    "    kf = KFold(n_folds, shuffle=True, random_state=42).get_n_splits(train.values)\n",
    "    rmse= np.sqrt(-cross_val_score(model, train.values, y_train, scoring=\"neg_mean_squared_error\", cv = kf))\n",
    "    return(rmse)"
   ]
  },
  {
   "cell_type": "code",
   "execution_count": null,
   "metadata": {
    "_cell_guid": "4319f713-047d-46c2-9df5-4293e02bbfe4",
    "_uuid": "2072fd1d7d3f00eb75e3e9f6d72c2d617182ac74",
    "collapsed": true
   },
   "outputs": [],
   "source": [
    "GBoost = GradientBoostingRegressor(n_estimators=3000, learning_rate=0.05,\n",
    "                                   max_depth=4, max_features='sqrt',\n",
    "                                   min_samples_leaf=15, min_samples_split=10, \n",
    "                                   loss='huber', random_state =5)"
   ]
  },
  {
   "cell_type": "code",
   "execution_count": null,
   "metadata": {
    "_cell_guid": "a25d1497-fdaa-4acd-a0c2-f7bbab81b85a",
    "_uuid": "c9b05d7aa8f5b6a7b0cf13e2afd70fa752e2f3e7",
    "collapsed": true
   },
   "outputs": [],
   "source": [
    "model_xgb = xgb.XGBRegressor(colsample_bytree=0.4603, gamma=0.0468, \n",
    "                             learning_rate=0.05, max_depth=3, \n",
    "                             min_child_weight=1.7817, n_estimators=2200,\n",
    "                             reg_alpha=0.4640, reg_lambda=0.8571,\n",
    "                             subsample=0.5213, silent=1,\n",
    "                             random_state =7, nthread = -1)"
   ]
  },
  {
   "cell_type": "code",
   "execution_count": null,
   "metadata": {
    "_cell_guid": "e396672a-e1a9-444c-9851-5ce8d9c8f4f2",
    "_uuid": "6a8b00f890f99b4434d0ec0c8575f5d8500defec",
    "collapsed": true
   },
   "outputs": [],
   "source": [
    "model_rf = RandomForestRegressor(random_state = 3, n_estimators = 500, criterion='mse',n_jobs=-1 )"
   ]
  },
  {
   "cell_type": "markdown",
   "metadata": {
    "_cell_guid": "86284751-fd3e-47e8-bd69-e9040a0549db",
    "_uuid": "3b1f17f06c30d25a580de2bc6ea25d81e1a81490"
   },
   "source": [
    "**Base models scores**"
   ]
  },
  {
   "cell_type": "code",
   "execution_count": null,
   "metadata": {
    "_cell_guid": "51ea06f3-9ab5-4caf-908a-6b72cb8fd396",
    "_uuid": "a2709089ae965ec748e948c1259482a7909ed891",
    "collapsed": true
   },
   "outputs": [],
   "source": [
    "#score = rmsle_cv(GBoost)\n",
    "#print(\"Gradient Boosting score: {:.4f} ({:.4f})\\n\".format(score.mean(), score.std()))"
   ]
  },
  {
   "cell_type": "code",
   "execution_count": null,
   "metadata": {
    "_cell_guid": "18164b5c-c21c-45e0-bb40-f498abeb432b",
    "_uuid": "4efc6c8bbe0fc743b9ac23c0ecca8711b7fcc98d",
    "collapsed": true
   },
   "outputs": [],
   "source": [
    "#score = rmsle_cv(model_xgb)\n",
    "#print(\"Xgboost score: {:.4f} ({:.4f})\\n\".format(score.mean(), score.std()))"
   ]
  },
  {
   "cell_type": "code",
   "execution_count": null,
   "metadata": {
    "_cell_guid": "6bb9054c-760f-4df1-a8d9-975e1d9b4209",
    "_uuid": "9b4fcbff9d8fd11da4501fba7a76ef0d708e550c",
    "collapsed": true
   },
   "outputs": [],
   "source": [
    "#score = rmsle_cv(model_rf)\n",
    "#print(\"RF score: {:.4f} ({:.4f})\\n\" .format(score.mean(), score.std()))"
   ]
  },
  {
   "cell_type": "markdown",
   "metadata": {
    "_cell_guid": "d4347ffe-5e3b-4008-b944-9832c07af1f0",
    "_uuid": "6bc8b6fc9fafc8d26cd6687aca52dcae194da98c"
   },
   "source": [
    "\n",
    "\n",
    "**Averaged base models class**"
   ]
  },
  {
   "cell_type": "code",
   "execution_count": null,
   "metadata": {
    "_cell_guid": "a3226823-e553-4869-99b0-8e73a27a2251",
    "_uuid": "6c99eb3ab3879a71ffff0f8be522ab47b0911e45",
    "collapsed": true
   },
   "outputs": [],
   "source": [
    "class AveragingModels(BaseEstimator, RegressorMixin, TransformerMixin):\n",
    "    def __init__(self, models):\n",
    "        self.models = models\n",
    "        \n",
    "    # we define clones of the original models to fit the data in\n",
    "    def fit(self, X, y):\n",
    "        self.models_ = [clone(x) for x in self.models]\n",
    "        \n",
    "        # Train cloned base models\n",
    "        for model in self.models_:\n",
    "            model.fit(X, y)\n",
    "\n",
    "        return self\n",
    "    \n",
    "    #Now we do the predictions for cloned models and average them\n",
    "    def predict(self, X):\n",
    "        predictions = np.column_stack([\n",
    "            model.predict(X) for model in self.models_\n",
    "        ])\n",
    "        return np.mean(predictions, axis=1)   "
   ]
  },
  {
   "cell_type": "code",
   "execution_count": null,
   "metadata": {
    "_cell_guid": "a85df3e7-d9af-4f54-9353-aa503a70990e",
    "_uuid": "afc5b6dc998d8fb165906b3d2a87a4cd2912aece",
    "collapsed": true
   },
   "outputs": [],
   "source": [
    "averaged_models = AveragingModels(models = (GBoost, model_xgb, model_rf))\n",
    "\n",
    "averaged_models.fit(train.values, y_train)\n",
    "#averaged_train_pred = averaged_models.predict(train.values)\n",
    "averaged_pred = averaged_models.predict(test.values)\n",
    "\n",
    "submissionAVG = pd.DataFrame(np.column_stack([test_ID, averaged_pred]), columns = ['id','log_price'])\n",
    "submissionAVG.to_csv(\"submissionAVG.csv\", index = False)\n"
   ]
  },
  {
   "cell_type": "markdown",
   "metadata": {
    "_cell_guid": "e90afe1a-c595-4f25-8c76-6be1f99afc4c",
    "_uuid": "63cf786710a519767a699dd90db653c1cf645e1f"
   },
   "source": [
    "**Ensembling StackedRegressor, XGBoost and LightGBM**"
   ]
  },
  {
   "cell_type": "markdown",
   "metadata": {
    "_cell_guid": "cb34c25b-0ce7-44ff-aecc-fb3290f4388e",
    "_uuid": "2ae6ad7b4c485abc553c3b1ead0bb60b0f69b8f8"
   },
   "source": [
    "**Final Training and Prediction**\n",
    "\n",
    "**StackedRegressor:**"
   ]
  },
  {
   "cell_type": "markdown",
   "metadata": {
    "_cell_guid": "58694077-0870-4a7a-a8a0-5261fe04b474",
    "_uuid": "101305f3b5f8c980aa3b79c52e66a5909d29c935"
   },
   "source": [
    "**XGBoost:**"
   ]
  },
  {
   "cell_type": "code",
   "execution_count": null,
   "metadata": {
    "_cell_guid": "0cfbc20c-9989-4af3-a515-7d395994819a",
    "_uuid": "0bf8c7177d549f4b03ea3f104c8a47eb0b86f88d",
    "collapsed": true
   },
   "outputs": [],
   "source": [
    "model_xgb.fit(train, y_train)\n",
    "#xgb_train_pred = model_xgb.predict(train)\n",
    "xgb_pred = model_xgb.predict(test)\n",
    "#print(rmsle(y_train, xgb_train_pred))\n",
    "submissionXGB = pd.DataFrame(np.column_stack([test_ID, xgb_pred]), columns = ['id','log_price'])\n",
    "submissionXGB.to_csv(\"submissionXGB.csv\", index = False)\n"
   ]
  },
  {
   "cell_type": "markdown",
   "metadata": {
    "_cell_guid": "092ade62-0f9a-41b0-8fd5-b4c55287dd93",
    "_uuid": "aef3eabbcd68cee4ccb1c21f83124eaeecbef54f"
   },
   "source": [
    "**Random Forest**"
   ]
  },
  {
   "cell_type": "code",
   "execution_count": null,
   "metadata": {
    "_cell_guid": "f0ecb734-ca99-4bbf-aa5d-c526b0c85ca4",
    "_uuid": "45e9fed43620799e7c795a99a1f00237cb8b720b",
    "collapsed": true
   },
   "outputs": [],
   "source": [
    "model_rf.fit(train, y_train)\n",
    "#rf_train_pred = model_rf.predict(train)\n",
    "rf_pred = model_rf.predict(test.values)\n",
    "\n",
    "submissionRF = pd.DataFrame(np.column_stack([test_ID, rf_pred]), columns = ['id','log_price'])\n",
    "submissionRF.to_csv(\"submissionRF.csv\", index = False)\n",
    "#print(rmsle(y_train, lgb_train_pred))"
   ]
  },
  {
   "cell_type": "markdown",
   "metadata": {
    "_cell_guid": "4039a908-ab2c-4f80-9a2d-b82d26852c8c",
    "_uuid": "b51ca6a718f3e65f316c455235376ef9509c6520"
   },
   "source": [
    "**GBoost**"
   ]
  },
  {
   "cell_type": "code",
   "execution_count": null,
   "metadata": {
    "_cell_guid": "5674b249-dfd5-46d0-a601-093d3195b394",
    "_uuid": "6ff4b959dd402049af9397c4cab4a9b12a35c6ed",
    "collapsed": true
   },
   "outputs": [],
   "source": [
    "GBoost.fit(train, y_train)\n",
    "#GBoost_train_pred = GBoost.predict(train)\n",
    "GBoost_pred = GBoost.predict(test.values)\n",
    "\n",
    "submissionGBoost = pd.DataFrame(np.column_stack([test_ID, GBoost_pred]), columns = ['id','log_price'])\n",
    "submissionGBoost.to_csv(\"submissionGBoost.csv\", index = False)"
   ]
  },
  {
   "cell_type": "code",
   "execution_count": null,
   "metadata": {
    "_cell_guid": "32b3f4b9-efb0-48ef-ac25-43732cfc580b",
    "_uuid": "d2831bb36424a57d587f2c21b663d7ac414ddbc5",
    "collapsed": true
   },
   "outputs": [],
   "source": [
    "'''RMSE on the entire Train data when averaging'''\n",
    "\n",
    "#print('RMSLE score on train data:')\n",
    "#print(rmsle(y_train,stacked_train_pred*0.70 +\n",
    " #              xgb_train_pred*0.15 + rf_train_pred*0.15 ))"
   ]
  },
  {
   "cell_type": "markdown",
   "metadata": {
    "_cell_guid": "baefb1cb-5b0c-4a05-b7a6-e06bfe7274ed",
    "_uuid": "e14f40975d18c46392e237ceb1ea96c6e3ce4cc1"
   },
   "source": [
    "**Ensemble prediction:**"
   ]
  },
  {
   "cell_type": "code",
   "execution_count": null,
   "metadata": {
    "_cell_guid": "760a1361-f9e7-4d67-9884-8d4d1d3a2643",
    "_uuid": "0893302a3f12a988eae1ec12dc3ed7f787c75495",
    "collapsed": true
   },
   "outputs": [],
   "source": [
    "ensemble = averaged_pred*0.60 + xgb_pred*0.20 + rf_pred*0.20"
   ]
  },
  {
   "cell_type": "markdown",
   "metadata": {
    "_cell_guid": "afe4b760-3618-40d7-a378-395ae0d11057",
    "_uuid": "62a7e2241573e92ad1016e873374d01f22e05081"
   },
   "source": [
    "**Submission**"
   ]
  },
  {
   "cell_type": "code",
   "execution_count": null,
   "metadata": {
    "_cell_guid": "54fa8999-21f7-40bf-9627-5a8bc8f8c3cf",
    "_uuid": "c321d4fc4cdc5ffdfce91f66cd3ebe8800b97923",
    "collapsed": true
   },
   "outputs": [],
   "source": [
    "sub = pd.DataFrame()\n",
    "sub['id'] = test_ID\n",
    "sub['log_price'] = ensemble\n",
    "sub.to_csv('submissionEnsemble1.csv',index=False)"
   ]
  },
  {
   "cell_type": "code",
   "execution_count": null,
   "metadata": {
    "_cell_guid": "e1abe998-91e2-4427-b839-3adab264efb2",
    "_uuid": "357b6cba1b98fee0e0d5f905ba7a374404705046",
    "collapsed": true
   },
   "outputs": [],
   "source": [
    "ensemble = averaged_pred*0.50 + xgb_pred*0.25 + rf_pred*0.25"
   ]
  },
  {
   "cell_type": "code",
   "execution_count": null,
   "metadata": {
    "_cell_guid": "ba912598-ceed-4491-a792-de969262a59f",
    "_uuid": "fdffd98e4f1ecac14d9661ae31205cf1c8e567b8",
    "collapsed": true
   },
   "outputs": [],
   "source": [
    "sub1 = pd.DataFrame()\n",
    "sub1['id'] = test_ID\n",
    "sub1['log_price'] = ensemble\n",
    "sub1.to_csv('submissionEnsemble2.csv',index=False)"
   ]
  }
 ],
 "metadata": {
  "kernelspec": {
   "display_name": "Python 3",
   "language": "python",
   "name": "python3"
  },
  "language_info": {
   "codemirror_mode": {
    "name": "ipython",
    "version": 3
   },
   "file_extension": ".py",
   "mimetype": "text/x-python",
   "name": "python",
   "nbconvert_exporter": "python",
   "pygments_lexer": "ipython3",
   "version": "3.6.3"
  }
 },
 "nbformat": 4,
 "nbformat_minor": 1
}
